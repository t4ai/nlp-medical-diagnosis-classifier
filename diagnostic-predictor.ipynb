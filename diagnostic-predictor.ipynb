{
 "cells": [
  {
   "cell_type": "markdown",
   "metadata": {},
   "source": [
    "# Predicting Patient Diagnosis from Natural Language Symptoms\n",
    "## AAI-501 Team 3 Final Project\n",
    "\n",
    "Team 3 Members:  Tyler Foreman, Christi Moncrief, Tewfik Istanbooly, Mayank Bhatt\n",
    "\n",
    "Date:  August 14, 2023\n",
    "\n",
    "GitHub Repository: https://github.com/t4ai/AAI-501-Team3"
   ]
  },
  {
   "cell_type": "code",
   "execution_count": null,
   "metadata": {},
   "outputs": [],
   "source": [
    "import numpy as np\n",
    "import pandas as pd\n",
    "import matplotlib.pyplot as plt\n",
    "import scipy.stats as stats\n",
    "import random\n",
    "import statistics\n",
    "from pprint import pprint\n",
    "import statsmodels.api as sm\n",
    "from scipy.stats import uniform\n",
    "\n",
    "# Modeling\n",
    "from sklearn.preprocessing import StandardScaler\n",
    "from sklearn.model_selection import GridSearchCV, RandomizedSearchCV, train_test_split, cross_val_score, cross_val_predict\n",
    "from sklearn.metrics import accuracy_score, confusion_matrix, precision_score, recall_score, ConfusionMatrixDisplay, make_scorer\n",
    "from scipy.stats import randint"
   ]
  },
  {
   "cell_type": "markdown",
   "metadata": {},
   "source": [
    "## Exploratory Data Analysis\n",
    " \n",
    " - Load data into dataframe\n",
    " - Generate and review descriptive statistics of the dataset/variables\n",
    " - Plot visualization of data spread for each variable\n"
   ]
  },
  {
   "cell_type": "code",
   "execution_count": null,
   "metadata": {},
   "outputs": [],
   "source": [
    "# Load dataset\n",
    "symptoms_disease_df = pd.read_csv('./Symptom2Disease.csv')\n",
    "symptoms_disease_df.head()"
   ]
  },
  {
   "cell_type": "code",
   "execution_count": null,
   "metadata": {},
   "outputs": [],
   "source": [
    "# plot distribution of diagnoses\n",
    "fig, ax = plt.subplots(figsize=(10, 6))\n",
    "categories = symptoms_disease_df['label'].value_counts().index\n",
    "counts = symptoms_disease_df['label'].value_counts().values\n",
    "plt.bar(categories, counts, width=0.5)\n",
    "\n",
    "plt.ylabel('Count',fontsize=14)\n",
    "plt.xlabel('Diagnosis',fontsize=14)\n",
    "plt.xticks(fontsize=10, rotation = 80)\n",
    "plt.yticks(fontsize=10)\n",
    "# Add Title\n",
    "plt.title('Diagnosis Distribution',fontsize=12);\n",
    "plt.show()"
   ]
  },
  {
   "cell_type": "code",
   "execution_count": null,
   "metadata": {},
   "outputs": [],
   "source": []
  },
  {
   "cell_type": "markdown",
   "metadata": {},
   "source": [
    "## Data Cleaning\n",
    " - Evaluate for possible corrupted values (ie: possibly erronous)\n",
    " - Evaluate for any missing data/data gaps\n",
    " - Remove any entries that are missing data or appear to be erronous\n",
    " "
   ]
  },
  {
   "cell_type": "code",
   "execution_count": null,
   "metadata": {},
   "outputs": [],
   "source": []
  },
  {
   "cell_type": "markdown",
   "metadata": {},
   "source": [
    "## Data Preparation\n",
    "-  Vectorize natrual language text\n",
    "-  Create experimental datasets with different vectorization approaches - Bag of Words, nGram, etc.\n",
    "-  Perform any normalization of variables if necessary\n",
    "-  Split data into test/train/validate datasets (80/10/10)\n"
   ]
  },
  {
   "cell_type": "code",
   "execution_count": null,
   "metadata": {},
   "outputs": [],
   "source": []
  },
  {
   "cell_type": "markdown",
   "metadata": {},
   "source": [
    "## Model Selection\n",
    "-  Identify 2 models to conduct experiements with (ie: SVM and Random Forest)\n",
    "-  For each model:\n",
    "    -  Train the model on each experimental dataset\n",
    "    -  Validate against validation dataset\n",
    "    -  Tune hyperparameters as necessary to optimize performance\n",
    "    -  Repeat until optimized\n",
    "    -  Test against test dataset\n",
    "    -  Measure model performance\n",
    "- Compare model performance"
   ]
  },
  {
   "cell_type": "code",
   "execution_count": null,
   "metadata": {},
   "outputs": [],
   "source": []
  }
 ],
 "metadata": {
  "kernelspec": {
   "display_name": "base-stats",
   "language": "python",
   "name": "python3"
  },
  "language_info": {
   "codemirror_mode": {
    "name": "ipython",
    "version": 3
   },
   "file_extension": ".py",
   "mimetype": "text/x-python",
   "name": "python",
   "nbconvert_exporter": "python",
   "pygments_lexer": "ipython3",
   "version": "3.11.3"
  },
  "orig_nbformat": 4
 },
 "nbformat": 4,
 "nbformat_minor": 2
}
